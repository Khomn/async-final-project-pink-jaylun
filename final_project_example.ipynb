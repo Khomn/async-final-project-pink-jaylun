{
 "cells": [
  {
   "cell_type": "code",
   "execution_count": 6,
   "metadata": {},
   "outputs": [
    {
     "data": {
      "text/plain": [
       "['Property Type',\n",
       " 'Property Use',\n",
       " 'Land Use',\n",
       " 'Beds',\n",
       " 'Baths',\n",
       " 'Rooms Count',\n",
       " 'Units Count',\n",
       " 'Stories',\n",
       " 'Building Size (sqft)',\n",
       " 'Lot Size (sqft)',\n",
       " 'Year Built',\n",
       " 'Years Owned',\n",
       " 'Pool',\n",
       " 'Pool Area',\n",
       " 'Garage',\n",
       " 'Basement',\n",
       " 'Deck',\n",
       " 'Deck Area',\n",
       " 'Patio',\n",
       " 'Patio Area',\n",
       " 'Air Conditioning',\n",
       " 'Roof Construction',\n",
       " 'Roof Material',\n",
       " 'Estimated Value',\n",
       " 'Assessed Value',\n",
       " 'Assessed Land Value',\n",
       " 'Assessed Improvement Value',\n",
       " 'Price Per Sqft',\n",
       " 'Last Sale Date',\n",
       " 'Last Sale Amount',\n",
       " 'Last Sale Arms Length',\n",
       " 'Prior Sale Amount',\n",
       " 'Recording Date',\n",
       " 'Document Type',\n",
       " 'Last Update Date',\n",
       " 'Cash Buyer',\n",
       " 'Investor Buyer',\n",
       " 'Flood Zone']"
      ]
     },
     "execution_count": 6,
     "metadata": {},
     "output_type": "execute_result"
    }
   ],
   "source": [
    "# Import necessary libraries\n",
    "import pandas as pd\n",
    "import seaborn as sns\n",
    "import matplotlib.pyplot as plt\n",
    "\n",
    "df = pd.read_csv('hth_property_data.csv')\n",
    "pd.set_option('display.max_columns', None)\n",
    "df.columns.to_list()\n"
   ]
  },
  {
   "cell_type": "code",
   "execution_count": 7,
   "metadata": {},
   "outputs": [
    {
     "data": {
      "text/plain": [
       "335    4361000\n",
       "Name: Estimated Value, dtype: int64"
      ]
     },
     "execution_count": 7,
     "metadata": {},
     "output_type": "execute_result"
    }
   ],
   "source": [
    "low_bound = 0\n",
    "high_bound = df['Estimated Value'].nlargest(1)\n",
    "\n",
    "\n",
    "x = df['Estimated Value']\n",
    "\n",
    "high_bound\n"
   ]
  }
 ],
 "metadata": {
  "kernelspec": {
   "display_name": "Python 3",
   "language": "python",
   "name": "python3"
  },
  "language_info": {
   "codemirror_mode": {
    "name": "ipython",
    "version": 3
   },
   "file_extension": ".py",
   "mimetype": "text/x-python",
   "name": "python",
   "nbconvert_exporter": "python",
   "pygments_lexer": "ipython3",
   "version": "3.13.4"
  }
 },
 "nbformat": 4,
 "nbformat_minor": 2
}
